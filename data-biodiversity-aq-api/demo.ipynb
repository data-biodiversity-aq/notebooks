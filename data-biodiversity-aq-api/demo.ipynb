{
 "cells": [
  {
   "cell_type": "markdown",
   "source": [
    "# A demo of data.biodiversity.aq webservices "
   ],
   "metadata": {
    "collapsed": false
   }
  },
  {
   "cell_type": "code",
   "execution_count": 21,
   "outputs": [],
   "source": [
    "import requests\n",
    "from urllib.parse import urljoin\n",
    "\n",
    "BASE_URL = 'https://data.biodiversity.aq/api/v1.0/'\n",
    "USERNAME = 'username@email.com'\n",
    "PASSWORD = \"my_password\""
   ],
   "metadata": {
    "collapsed": false,
    "pycharm": {
     "name": "#%%\n",
     "is_executing": false
    }
   }
  },
  {
   "cell_type": "markdown",
   "source": [
    "### Data Type\n",
    "\n",
    "What are the types of data available in the database?"
   ],
   "metadata": {
    "collapsed": false
   }
  },
  {
   "cell_type": "code",
   "execution_count": 2,
   "outputs": [
    {
     "data": {
      "text/plain": "{'count': 4,\n 'next': None,\n 'previous': None,\n 'results': [{'id': 4, 'dataType': 'Checklist'},\n  {'id': 2, 'dataType': 'Metadata'},\n  {'id': 1, 'dataType': 'Occurrence'},\n  {'id': 3, 'dataType': 'Sampling Event'}]}"
     },
     "metadata": {},
     "output_type": "execute_result",
     "execution_count": 2
    }
   ],
   "source": [
    "data_type_url = urljoin(BASE_URL, 'data-type')\n",
    "r = requests.get(data_type_url)\n",
    "r.json()"
   ],
   "metadata": {
    "collapsed": false,
    "pycharm": {
     "name": "#%%\n",
     "is_executing": false
    }
   }
  },
  {
   "cell_type": "markdown",
   "source": [
    "### Project\n",
    "\n",
    "What are the projects which has the words `electron micrograph database` in the title?"
   ],
   "metadata": {
    "collapsed": false
   }
  },
  {
   "cell_type": "code",
   "execution_count": 9,
   "outputs": [
    {
     "data": {
      "text/plain": "{'count': 2,\n 'next': None,\n 'previous': None,\n 'results': [{'id': 25,\n   'title': 'Antarctic Porifera in the collection of the Italian National Antarctic Museum (MNA)',\n   'funding': \"The specimens were collected during different Antarctic expeditions funded by the Italian National Antarctic Research Program (PNRA). The complete list of research projects is reported here (in brackets is the project name or category under the PNRA program):\\n•\\t2.1.4.6 (Necton e risorse da pesca), III expedition (1987/1988)\\n•\\t2.1.4.3 (Oceanografia & Benthos), III expedition (1987/1988)\\n•\\t3.2.1.2.5 (Benthos), V expedition (1989/1990)\\n•\\t3.2.1.4 (Oceanografia geologica), V expedition (1989/1990)\\n•\\t2d.2 (Ecologia e biogeochimica dell'Oceano Meridionale), IX expedition (1993/1994)\\n•\\t2d.2 (Ecologia e biogeochimica dell'Oceano Meridionale), X expedition (1994/1995)\\n•\\t2d.2 (Ecologia e biogeochimica dell'Oceano Meridionale - ROSSMIZE), XI expedition (1995/1996)\\n•\\t2b.3 (Ecologia e biogeochimica dell'Oceano Meridionale), XIII expedition (1997/1998)\\n•\\t2b.3.1 (Struttura e dinamica delle cenosi marine di Baia Terra Nova), XIV expedition (1998/1999)\\n•\\t8.5 (L’area marina protetta di Baia Terra Nova: struttura e variazioni a breve e lungo termine), XV expedition (1999/2000)\\n•\\t4.7 (Processi genetici e significato paleoclimatico e paleoceanografico dei CARBONati marini biogenici in ANTartide - CARBONANT), XVII expedition (2001/2002)\\n•\\t8.5 (L’area marina protetta di Baia Terra Nova: struttura e variazioni a breve e lungo termine), XVII expedition (2001/2002)\\n•\\t2002/8.6 (The costal ecosystem of Victoria Land coast: distribution and structure along the latitudinal gradient), XVIII expedition (2002/2003)\\n•\\t2002/8.6 (The costal ecosystem of Victoria Land coast: distribution and structure along the latitudinal gradient), XIX expedition (2003/2004)\\n•\\t2004/1.6 (Batteri e caianobatteri antartici: biodiversità e produzione di composti con\\npotenzialità applicative in biotecnologia), XX expedition (2004/2005)\\n•\\t2004/8.2 (Variabilità della ventilazione polare abissale e suo impatto sulla circolazione globale - PolarDOVE), XXI expedition (2005/2006)\\n•\\t2006/08.01 (L’ecosistema costiero di Baia Terra Nova - Latitudinal Gradient Project), XXV expedition (2009/2010)\\n•\\t2004/08.04 (Ecologia e ciclo vitale di specie ittiche costiere del Mare di Ross), XXV expedition (2009/2010)\\n•\\t2010/A1.10 (Barcoding of Antarctic Marine Biodiversity - BAMBi), XXVII expedition (2011/2012)\\n•\\t2009/A1.09 (Diversità genetica spazio temporale di endoparassiti delle regioni polari: uno studio per la valutazione dell’impatto dei cambiamenti globali sulle reti trofiche marine), XXVIII expedition (2012/2013)\\n•\\t2010/A1.10 (Barcoding of Antarctic Marine Biodiversity - BAMBi), XXVIII expedition (2012/2013)\\n•\\t2010/A1.11 (Vulnerabilità dei pesci polari al cambiamento climatico: ciclo vitale, habitats e relazione con il ghiaccio marino in Pleuragramma antarcticum), XXVIII expedition (2012/2013)\\n•\\t2010/A1.10 (Barcoding of Antarctic Marine Biodiversity - BAMBi), XXIX expedition (2013/2014)\\n•\\t2013/AZ1.09 (Integrità dell’ecosistema marino antartico come presupposto per lo studio dell’interazione parassita-ospite: un approccio genetico, molecolare ed immunologico), XXIX expedition (2013/2014)\"},\n  {'id': 12,\n   'title': 'Benthic biodiversity of Bellingshausen Sea an Antarctic Peninsula: Porifera',\n   'funding': 'Estudios de la fauna y flora bentónica de los fondos de la zona sur de la isla Livingston (Shetlands del Sur, Antártida.(ANT93-0996).\\nEstudios de la fauna y flora bentónica de los fondos de la zona sur de la isla Livingston y áreas adyacentes (Shetlands del Sur, Antártida. (ANT94-1161-E).\\nFauna y Flora Bentónicas de los fondos del Sur de la Isla Livingston y áreas adyacentes: estudio del material biológico y datos recogidos en las campañas nacionales del Bentos Antártico. (ANT95-1011).\\nMuestreos bentónicos en áreas volcánicas de la cuenca del Bransfield (Antártida). (ANT96-2440-E).\\nAmpliación del Proyecto: Fauna y flora bentónica de los fondos de la zona sur de isla Livingston y áreas adyacentes. Estudio del material biológico y datos recogidos en las dos campañas españolas de bentos antártico (ANT97-2097-E).\\nEstudio integrado de la biodiversidad bentónica del Mar de Bellingshausen y Península Antártica (Antártida del Oeste) (Segunda Campaña de Muestreo a bordo del BIO Hespérides) MCYT REN2003-01881/ANT.'}]}"
     },
     "metadata": {},
     "output_type": "execute_result",
     "execution_count": 9
    }
   ],
   "source": [
    "project_url = urljoin(BASE_URL, 'project')\n",
    "r = requests.get(project_url, params={'search': 'porifera'})\n",
    "r.json()"
   ],
   "metadata": {
    "collapsed": false,
    "pycharm": {
     "name": "#%%\n",
     "is_executing": false
    }
   }
  },
  {
   "cell_type": "markdown",
   "source": [
    "What are the datasets associated with the projects returned from the query above?"
   ],
   "metadata": {
    "collapsed": false
   }
  },
  {
   "cell_type": "code",
   "execution_count": 10,
   "outputs": [
    {
     "data": {
      "text/plain": "{'count': 2,\n 'next': None,\n 'previous': None,\n 'results': [{'id': 455,\n   'title': 'Porifera collection of the Italian National Antarctic Museum (MNA) - Data',\n   'abstract': 'This new dataset presents occurrence data for Porifera collected in the Ross Sea, mainly in the Terra Nova Bay area, and curated at the Italian National Antarctic Museum (MNA, section of Genoa). Specimens were collected in 331 different sampling stations at depths ranging from 17 to 1100 meters in the framework of 17 different Italian Antarctic expeditions funded by the Italian National Antarctic Research Program (PNRA). A total of 807 specimens, belonging to 144 morphospecies (i.e. 95 taxa identified at species level and 49 classified at least at the genus level), are included in the dataset. Nearly half (45%) of the species reported here correspond to species already known for Terra Nova Bay. Out of the remaining 55% previously unknown records, under a third (~29%) was classified at the specific level, while over a quarter (~26%) was ascribed to the genus level only and requires further study. All vouchers are permanently curated at the MNA and are available for study to the scientific community. A 3D model of an uncommon species from the Ross Sea, i.e. Tethyopsis brondstedi (Burton, 1929), is also presented here and will be made available for outreach purposes.',\n   'pubDate': '2019-03-19',\n   'intellectualRight': 'Creative Commons Attribution (CC-BY) 4.0 License',\n   'doi': '10.15468/robcnf',\n   'alternateIdentifiers': ['10.15468/robcnf',\n    'https://ipt.biodiversity.aq/resource?r=mna_antarctic_porifera',\n    '89ed0b61-e110-4735-8774-8ac3a7fc3eb7',\n    'http://ipt.biodiversity.aq/resource?r=mna_antarctic_porifera'],\n   'boundingBox': 'SRID=4326;POLYGON ((-180 -78, -180 -70, 160 -70, 160 -78, -180 -78))',\n   'citation': 'Ghiglione C, Alvaro M C, Cecchetto M, Canese S, Downey R, Guzzi A, Mazzoli C, Piazza P, Rapp H T, Sarà A, Schiaparelli S (2019). Porifera collection of the Italian National Antarctic Museum (MNA) - Data. Version 1.4. Italian National Antarctic Museum (MNA, Section of Genoa). Occurrence dataset https://doi.org/10.15468/robcnf accessed via GBIF.org on 2019-09-22.',\n   'dataType': {'id': 1, 'dataType': 'Occurrence'},\n   'project': {'id': 25,\n    'title': 'Antarctic Porifera in the collection of the Italian National Antarctic Museum (MNA)',\n    'funding': \"The specimens were collected during different Antarctic expeditions funded by the Italian National Antarctic Research Program (PNRA). The complete list of research projects is reported here (in brackets is the project name or category under the PNRA program):\\n•\\t2.1.4.6 (Necton e risorse da pesca), III expedition (1987/1988)\\n•\\t2.1.4.3 (Oceanografia & Benthos), III expedition (1987/1988)\\n•\\t3.2.1.2.5 (Benthos), V expedition (1989/1990)\\n•\\t3.2.1.4 (Oceanografia geologica), V expedition (1989/1990)\\n•\\t2d.2 (Ecologia e biogeochimica dell'Oceano Meridionale), IX expedition (1993/1994)\\n•\\t2d.2 (Ecologia e biogeochimica dell'Oceano Meridionale), X expedition (1994/1995)\\n•\\t2d.2 (Ecologia e biogeochimica dell'Oceano Meridionale - ROSSMIZE), XI expedition (1995/1996)\\n•\\t2b.3 (Ecologia e biogeochimica dell'Oceano Meridionale), XIII expedition (1997/1998)\\n•\\t2b.3.1 (Struttura e dinamica delle cenosi marine di Baia Terra Nova), XIV expedition (1998/1999)\\n•\\t8.5 (L’area marina protetta di Baia Terra Nova: struttura e variazioni a breve e lungo termine), XV expedition (1999/2000)\\n•\\t4.7 (Processi genetici e significato paleoclimatico e paleoceanografico dei CARBONati marini biogenici in ANTartide - CARBONANT), XVII expedition (2001/2002)\\n•\\t8.5 (L’area marina protetta di Baia Terra Nova: struttura e variazioni a breve e lungo termine), XVII expedition (2001/2002)\\n•\\t2002/8.6 (The costal ecosystem of Victoria Land coast: distribution and structure along the latitudinal gradient), XVIII expedition (2002/2003)\\n•\\t2002/8.6 (The costal ecosystem of Victoria Land coast: distribution and structure along the latitudinal gradient), XIX expedition (2003/2004)\\n•\\t2004/1.6 (Batteri e caianobatteri antartici: biodiversità e produzione di composti con\\npotenzialità applicative in biotecnologia), XX expedition (2004/2005)\\n•\\t2004/8.2 (Variabilità della ventilazione polare abissale e suo impatto sulla circolazione globale - PolarDOVE), XXI expedition (2005/2006)\\n•\\t2006/08.01 (L’ecosistema costiero di Baia Terra Nova - Latitudinal Gradient Project), XXV expedition (2009/2010)\\n•\\t2004/08.04 (Ecologia e ciclo vitale di specie ittiche costiere del Mare di Ross), XXV expedition (2009/2010)\\n•\\t2010/A1.10 (Barcoding of Antarctic Marine Biodiversity - BAMBi), XXVII expedition (2011/2012)\\n•\\t2009/A1.09 (Diversità genetica spazio temporale di endoparassiti delle regioni polari: uno studio per la valutazione dell’impatto dei cambiamenti globali sulle reti trofiche marine), XXVIII expedition (2012/2013)\\n•\\t2010/A1.10 (Barcoding of Antarctic Marine Biodiversity - BAMBi), XXVIII expedition (2012/2013)\\n•\\t2010/A1.11 (Vulnerabilità dei pesci polari al cambiamento climatico: ciclo vitale, habitats e relazione con il ghiaccio marino in Pleuragramma antarcticum), XXVIII expedition (2012/2013)\\n•\\t2010/A1.10 (Barcoding of Antarctic Marine Biodiversity - BAMBi), XXIX expedition (2013/2014)\\n•\\t2013/AZ1.09 (Integrità dell’ecosistema marino antartico come presupposto per lo studio dell’interazione parassita-ospite: un approccio genetico, molecolare ed immunologico), XXIX expedition (2013/2014)\"},\n   'keywordSet': [{'id': 260, 'keyword': '3D models', 'thesaurus': 'Zookeys'},\n    {'id': 259, 'keyword': 'Antarctica', 'thesaurus': 'Zookeys'},\n    {'id': 255,\n     'keyword': 'Italian National Antarctic Museum',\n     'thesaurus': 'Zookeys'},\n    {'id': 13,\n     'keyword': 'Occurrence',\n     'thesaurus': 'GBIF Dataset Type Vocabulary: http://rs.gbif.org/vocabulary/gbif/dataset_type.xml'},\n    {'id': 256, 'keyword': 'Porifera', 'thesaurus': 'Zookeys'},\n    {'id': 258, 'keyword': 'Ross Sea', 'thesaurus': 'Zookeys'},\n    {'id': 257, 'keyword': 'Terra Nova Bay', 'thesaurus': 'Zookeys'}],\n   'publisher': {'id': 96,\n    'publisherKey': '4c882fee-876a-4b32-b218-67b2bdd42579',\n    'publisherName': 'Italian National Antarctic Museum (MNA, Section of Genoa)'}},\n  {'id': 338,\n   'title': 'Antarctic Porifera database from the Spanish benthic expeditions: Bentart, Gebrap and Ciemar',\n   'abstract': 'This database includes information on porífera collected during several Spanish Antarctic expeditions: Bentart 94; Bentart 95; Gebrap 96; Ciemar 99/00 and Bentart 2003. The expeditions focused from the Antarctic Peninsula to Bellingshausen Sea.\\nPorifera were collected using rock dredge, Van Veen dredge, anchor dredge, suprabenthic sledge, fish traps, scuba diving, Box corer and Agassiz trawl.\\nThe dataset now reaches 771 occurrence data that have checked for systematic reliability. This database is not finished and the collection is growing. The data are available in Gbif.',\n   'pubDate': '2015-05-07',\n   'intellectualRight': 'Creative Commons Attribution Non Commercial (CC-BY-NC) 4.0 License',\n   'doi': '',\n   'alternateIdentifiers': ['10.15468/ip9pbr',\n    'http://www.gbif.es/ipt/resource?r=poriferabentart',\n    '2f58500b-b776-4fe6-b2b9-cbb32e8cd615'],\n   'boundingBox': 'SRID=4326;POLYGON ((-57 -90, -57 90, 180 90, 180 -90, -57 -90))',\n   'citation': 'Rios P (2015). Antarctic Porifera database from the Spanish benthic expeditions: Bentart, Gebrap and Ciemar. Oceanographic Center of Gijon, Spanish Institute of Oceanography (IEO). Occurrence Dataset https://doi.org/10.15468/ip9pbr accessed via GBIF.org on 2018-03-05.',\n   'dataType': {'id': 1, 'dataType': 'Occurrence'},\n   'project': {'id': 12,\n    'title': 'Benthic biodiversity of Bellingshausen Sea an Antarctic Peninsula: Porifera',\n    'funding': 'Estudios de la fauna y flora bentónica de los fondos de la zona sur de la isla Livingston (Shetlands del Sur, Antártida.(ANT93-0996).\\nEstudios de la fauna y flora bentónica de los fondos de la zona sur de la isla Livingston y áreas adyacentes (Shetlands del Sur, Antártida. (ANT94-1161-E).\\nFauna y Flora Bentónicas de los fondos del Sur de la Isla Livingston y áreas adyacentes: estudio del material biológico y datos recogidos en las campañas nacionales del Bentos Antártico. (ANT95-1011).\\nMuestreos bentónicos en áreas volcánicas de la cuenca del Bransfield (Antártida). (ANT96-2440-E).\\nAmpliación del Proyecto: Fauna y flora bentónica de los fondos de la zona sur de isla Livingston y áreas adyacentes. Estudio del material biológico y datos recogidos en las dos campañas españolas de bentos antártico (ANT97-2097-E).\\nEstudio integrado de la biodiversidad bentónica del Mar de Bellingshausen y Península Antártica (Antártida del Oeste) (Segunda Campaña de Muestreo a bordo del BIO Hespérides) MCYT REN2003-01881/ANT.'},\n   'keywordSet': [{'id': 86, 'keyword': 'Antarctic', 'thesaurus': 'NA'},\n    {'id': 80, 'keyword': 'Antarctic Peninsula', 'thesaurus': 'NA'},\n    {'id': 83, 'keyword': 'BENTART', 'thesaurus': 'NA'},\n    {'id': 81, 'keyword': 'Bellingshausen Sea', 'thesaurus': 'NA'},\n    {'id': 84, 'keyword': 'Benthic fauna', 'thesaurus': 'NA'},\n    {'id': 87, 'keyword': 'Biodiversity', 'thesaurus': 'NA'},\n    {'id': 79, 'keyword': 'Deep-Sea', 'thesaurus': 'NA'},\n    {'id': 13,\n     'keyword': 'Occurrence',\n     'thesaurus': 'GBIF Dataset Type Vocabulary: http://rs.gbif.org/vocabulary/gbif/dataset_type.xml'},\n    {'id': 82, 'keyword': 'Porifera', 'thesaurus': 'NA'},\n    {'id': 85, 'keyword': 'Sponges', 'thesaurus': 'NA'}],\n   'publisher': {'id': 41,\n    'publisherKey': 'e3837372-dfa4-450c-af2f-ce7a91ce135c',\n    'publisherName': 'Oceanographic Center of Gijon, Spanish Institute of Oceanography (IEO)'}}]}"
     },
     "metadata": {},
     "output_type": "execute_result",
     "execution_count": 10
    }
   ],
   "source": [
    "results = r.json().get('results')\n",
    "# get the project id so that we can search for datasets associated with these projects\n",
    "project_ids = [project.get('id') for project in results]  # [40, 39]\n",
    "dataset_url = urljoin(BASE_URL, 'dataset')\n",
    "r = requests.get(dataset_url, params={'project': project_ids})\n",
    "r.json()"
   ],
   "metadata": {
    "collapsed": false,
    "pycharm": {
     "name": "#%%\n",
     "is_executing": false
    }
   }
  },
  {
   "cell_type": "markdown",
   "source": [
    "### Keyword\n",
    "\n",
    "What are the keywords which has the words `EARTH SCIENCE`?"
   ],
   "metadata": {
    "collapsed": false
   }
  },
  {
   "cell_type": "code",
   "execution_count": 11,
   "outputs": [
    {
     "data": {
      "text/plain": "{'count': 9,\n 'next': None,\n 'previous': None,\n 'results': [{'id': 390,\n   'keyword': 'AIRCRAFT\\nCAMERAS\\nEARTH SCIENCE > BIOLOGICAL CLASSIFICATION > ANIMALS/VERTEBRATES > MAMMALS > CETACEANS',\n   'thesaurus': 'Global Change Master Directory (GCMD). 2018. GCMD Keywords, Version 8.6. Greenbelt, MD: Global Change Data Center, Science and Exploration Directorate, Goddard Space Flight Center (GSFC) National Aeronautics and Space Administration (NASA). URL (GCMD Keyword Forum Page): https://earthdata.nasa.gov/gcmd-forum'},\n  {'id': 262,\n   'keyword': 'EARTH SCIENCE',\n   'thesaurus': 'Global Change Master Directory'},\n  {'id': 494,\n   'keyword': 'EARTH SCIENCE',\n   'thesaurus': 'GBIF Dataset Type Vocabulary: http://rs.gbif.org/vocabulary/gbif/dataset_type.xml'},\n  {'id': 186,\n   'keyword': 'EARTH SCIENCE',\n   'thesaurus': 'GCMD Earth Science and Earth Science Services'},\n  {'id': 338,\n   'keyword': 'EARTH SCIENCE > BIOLOGICAL CLASSIFICATION > ANIMALS/VERTEBRATES > MAMMALS > CETACEANS\\nEARTH SCIENCE > BIOSPHERE > ECOLOGICAL DYNAMICS > ECOSYSTEM FUNCTIONS',\n   'thesaurus': 'GBIF Dataset Type Vocabulary: http://rs.gbif.org/vocabulary/gbif/dataset_subtype.xml'},\n  {'id': 324,\n   'keyword': 'EARTH SCIENCE > Oceans > Marine Biology > Marine Birds',\n   'thesaurus': 'GCMD'},\n  {'id': 402,\n   'keyword': 'Occurrence\\nEARTH SCIENCE > BIOLOGICAL CLASSIFICATION > ANIMALS/INVERTEBRATES\\nEARTH SCIENCE > BIOLOGICAL CLASSIFICATION > ANIMALS/INVERTEBRATES > ARTHROPODS > CRUSTACEANS\\nEARTH SCIENCE > BIOLOGICAL CLASSIFICATION > ANIMALS/INVERTEBRATES > FLATWORMS/FLUKES/TAPEWORMS\\nEARTH SCIENCE > BIOLOGICAL CLASSIFICATION > ANIMALS/INVERTEBRATES > MOLLUSKS > BIVALVES\\nEARTH SCIENCE > BIOSPHERE > ECOLOGICAL DYNAMICS > ECOTOXICOLOGY\\nEARTH SCIENCE > BIOSPHERE > ECOLOGICAL DYNAMICS > ECOTOXICOLOGY > BIOAVAILABILITY\\nEARTH SCIENCE > BIOSPHERE > ECOLOGICAL DYNAMICS > ECOTOXICOLOGY > SPECIES BIOACCUMULATION\\nEARTH SCIENCE > BIOSPHERE > ECOLOGICAL DYNAMICS > ECOTOXICOLOGY > TOXICITY LEVELS\\nEARTH SCIENCE > OCEANS > OCEAN CHEMISTRY > TRACE ELEMENTS',\n   'thesaurus': 'GBIF Dataset Type Vocabulary: http://rs.gbif.org/vocabulary/gbif/dataset_type.xml'},\n  {'id': 437,\n   'keyword': 'Occurrence\\nEARTH SCIENCE > BIOLOGICAL CLASSIFICATION > ANIMALS/INVERTEBRATES > MOLLUSKS > GASTROPODS\\nEARTH SCIENCE > BIOSPHERE > ECOLOGICAL DYNAMICS > ECOTOXICOLOGY > TOXICITY LEVELS\\nEARTH SCIENCE > OCEANS > OCEAN CHEMISTRY > TRACE ELEMENTS\\nEARTH SCIENCE > OCEANS > WATER QUALITY > OCEAN CONTAMINANTS\\nEARTH SCIENCE > HUMAN DIMENSIONS > ENVIRONMENTAL IMPACTS > CONTAMINANT LEVELS/SPILLS',\n   'thesaurus': 'GBIF Dataset Type Vocabulary: http://rs.gbif.org/vocabulary/gbif/dataset_type.xml'},\n  {'id': 391,\n   'keyword': 'Occurrence\\nEARTH SCIENCE > BIOSPHERE > ECOSYSTEMS > MARINE ECOSYSTEMS > BENTHIC\\nEARTH SCIENCE > OCEANS > MARINE SEDIMENTS\\nEARTH SCIENCE > OCEANS > OCEAN CHEMISTRY > STABLE ISOTOPES\\nEARTH SCIENCE > BIOLOGICAL CLASSIFICATION > ANIMALS/INVERTEBRATES\\nEARTH SCIENCE > BIOLOGICAL CLASSIFICATION > ANIMALS/INVERTEBRATES > ARTHROPODS > CRUSTACEANS\\nEARTH SCIENCE > BIOLOGICAL CLASSIFICATION > ANIMALS/INVERTEBRATES > MOLLUSKS > BIVALVES\\nEARTH SCIENCE > BIOLOGICAL CLASSIFICATION > ANIMALS/INVERTEBRATES > ARTHROPODS > CRUSTACEANS\\nEARTH SCIENCE > BIOLOGICAL CLASSIFICATION > ANIMALS/INVERTEBRATES > ECHINODERMS\\nEARTH SCIENCE > BIOLOGICAL CLASSIFICATION > ANIMALS/VERTEBRATES > FISH\\nEARTH SCIENCE > BIOLOGICAL CLASSIFICATION > ANIMALS/INVERTEBRATES > MOLLUSKS > GASTROPODS\\nEARTH SCIENCE > BIOLOGICAL CLASSIFICATION > ANIMALS/INVERTEBRATES > ARTHROPODS > CRUSTACEANS\\nEARTH SCIENCE > BIOLOGICAL CLASSIFICATION > PLANTS > MACROALGAE (SEAWEEDS)\\nEARTH SCIENCE > BIOLOGICAL CLASSIFICATION > PLANTS > MICROALGAE\\nEARTH SCIENCE > BIOLOGICAL CLASSIFICATION > PROTISTS > PLANKTON > PHYTOPLANKTON\\nEARTH SCIENCE > BIOSPHERE > ECOSYSTEMS > AQUATIC ECOSYSTEMS > PLANKTON\\nEARTH SCIENCE > CRYOSPHERE > SEA ICE\\nEARTH SCIENCE > OCEANS > SEA ICE',\n   'thesaurus': 'GBIF Dataset Type Vocabulary: http://rs.gbif.org/vocabulary/gbif/dataset_type.xml'}]}"
     },
     "metadata": {},
     "output_type": "execute_result",
     "execution_count": 11
    }
   ],
   "source": [
    "keyword_url = urljoin(BASE_URL, 'keyword')\n",
    "r = requests.get(keyword_url, params={'search': 'EARTH SCIENCE'})\n",
    "r.json()"
   ],
   "metadata": {
    "collapsed": false,
    "pycharm": {
     "name": "#%%\n",
     "is_executing": false
    }
   }
  },
  {
   "cell_type": "code",
   "execution_count": 12,
   "outputs": [
    {
     "data": {
      "text/plain": "[390, 262, 494, 186, 338, 324, 402, 437, 391]"
     },
     "metadata": {},
     "output_type": "execute_result",
     "execution_count": 12
    }
   ],
   "source": [
    "# get the IDs of these keywords so that we could search Dataset flagged by these keyword\n",
    "results = r.json().get('results')\n",
    "keyword_ids = [keyword.get('id') for keyword in results]\n",
    "keyword_ids"
   ],
   "metadata": {
    "collapsed": false,
    "pycharm": {
     "name": "#%%\n",
     "is_executing": false
    }
   }
  },
  {
   "cell_type": "markdown",
   "source": [
    "What are the datasets associated with the keyword returned from the query above `AND` is a `Occurrence` dataset?"
   ],
   "metadata": {
    "collapsed": false
   }
  },
  {
   "cell_type": "code",
   "execution_count": 13,
   "outputs": [
    {
     "data": {
      "text/plain": "{'count': 9,\n 'next': None,\n 'previous': None,\n 'results': [{'id': 481,\n   'title': 'Seabird Atlas of South-eastern Australian Waters 1975-1993',\n   'abstract': 'Seabird Atlas of South-eastern Australian Waters derived from multiple sources. Data from paper by Reid, T.A., Hindell, M.A., Eades, D.W. and Newman, M. 2002 Seabird Atlas of South-eastern Australian Waters, Birds Australia Monograph 4, Birds Australia, Melbourne. The following surveys/voyages have been removed as they exist in the existing OBIS dataset ANARE WoV - WOCE91, geosci , 1988/89 v4, 1989/90 v3, fishog and Thirst',\n   'pubDate': '2018-11-13',\n   'intellectualRight': 'Creative Commons Attribution Non Commercial (CC-BY-NC) 4.0 License',\n   'doi': '10.15468/zpijum',\n   'alternateIdentifiers': ['10.15468/zpijum',\n    'http://ogc-act.csiro.au/ipt/resource?r=seabird_atlas_southeast_australia',\n    '8c748691-6253-43fc-a851-86da40fa0021',\n    'http://ogc-act.csiro.au/ipt/resource.do?r=seabird_atlas_southeast_australia'],\n   'boundingBox': 'SRID=4326;POLYGON ((140.12 -47.14, 140.12 -38.98, 151.33 -38.98, 151.33 -47.14, 140.12 -47.14))',\n   'citation': 'Reid T, Watts D (2018). Seabird Atlas of South-eastern Australian Waters 1975-1993. Version 2.1. CSIRO Oceans and Atmosphere. Occurrence dataset https://doi.org/10.15468/zpijum accessed via GBIF.org on 2019-02-16.',\n   'dataType': {'id': 1, 'dataType': 'Occurrence'},\n   'project': None,\n   'keywordSet': [{'id': 324,\n     'keyword': 'EARTH SCIENCE > Oceans > Marine Biology > Marine Birds',\n     'thesaurus': 'GCMD'},\n    {'id': 35,\n     'keyword': 'Observation',\n     'thesaurus': 'GBIF Dataset Subtype Vocabulary: http://rs.gbif.org/vocabulary/gbif/dataset_subtype.xml'},\n    {'id': 13,\n     'keyword': 'Occurrence',\n     'thesaurus': 'GBIF Dataset Type Vocabulary: http://rs.gbif.org/vocabulary/gbif/dataset_type.xml'}],\n   'publisher': {'id': 6,\n    'publisherKey': '5fa89f68-9af0-4a0d-8998-ea39695c1db9',\n    'publisherName': 'CSIRO Oceans and Atmosphere'}},\n  {'id': 417,\n   'title': 'Asteroids, ophiuroids and holothurians from the South-Eastern Weddell Sea (Southern Ocean)',\n   'abstract': 'The South-Eastern Weddell Sea in the Atlantic Sector of the Southern Ocean is a typical high-latitude Antarctic region. It is located in the circumpolar permanent pack-ice zone (Hempel 1985a), characterized by summary polynyas (areas of open water surrounded by sea ice). Due to its remoteness and persistent sea-ice cover, it was not accessible for extensive scientific surveys before the availability and support of modern research platforms that are capable to operate independently in sea-ice covered waters. \\n     First multidisciplinary marine research was carried out in this area in the 1980s during the first Antarctic cruises of the German icebreaking research and supply vessel &#34;Polarstern”. Embedded in a broad ecological research programme, addressing a range of evolutionary, systematic, zoogeographical and ecological issues, first comprehensive faunistic inventories of the asteroid (starfish), ophiuroid (brittle star) and holothurian (sea cucumber) bottom fauna were conducted, based on field sampling efforts during “Polarstern” cruises ANT-I/2 (PS01), ANT-II/04 (PS04), and ANT-III/3 (PS06) (for cruise reports see Hempel 1983, Drescher et al. 1983, Kohnen 1984, and Hempel 1985b, respectively). \\n     The major objective of this collection work was to provide material for subsequent zoogeographical and ecological studies on the asterozoan (asteroid and ophiuroids together; Voß 1988, Piepenburg et al. 1997) and holothurian fauna (Gutt 1988, Gutt 1991), as well as for analyses of entire macrozoobenthos communities (Gutt 2000; for a compilation: Gutt et al. 2013). Here, we publish the complete original dataset of asteroid, ophiuroid and holothurian abundances (and absences) that formed the basis of the scientific findings published in the research papers mentioned above, to allow for the general accessibility to such data associated with starfishes, brittle stars and sea cucumbers from the South-Eastern Weddell Sea.\\n\\nAsteroid, ophiuroid, and holothurian specimens were sampled at a total of 59 sites distributed across the South-Eastern Weddell Sea at water depths between 160 and 1,180 m (for more detailed information see section on “Geographic coverage” below). In general, this region characterized by a relatively homogenous physical environment, especially in terms of water masses, poorly sorted sediments, persistent sea-ice cover and hardly predictable occurrence of coastal polynyas. As such, it is representative for the entire high-latitude Antarctic habitat. Some drivers of faunistic heterogeneity, in addition to biological interactions and unknown unpredictable factors, are briefly summarized in the section on “Project Data - Study area description” below.\\n   The field samples were mainly taken by means of an Agassiz trawl, but also with a commercial bottom trawl and, in one case, a smaller dredge. During the cruises, GPS positions were available approximately each six hours. Between the GPS fixes, the ship&#39;s positions were death reckoned. Swept areas were estimated for each haul as described in Voß (1988) and Gutt (1988). Water depths were measured by a DWD echo sounder. For more detailed information see section on “Sampling methods - Sampling description” below. \\n     Specimens were collected from either total catches or, in some cases subsamples, counted and preserved on board. Using the swept-area estimates, individual counts were standardized to abundance values (ind m^-2). After the cruises, the preserved specimens were identified to species in the lab. Some holothurian species, which were assumed to be new to science, were formally described (Gutt 1990a, b). Some of these new descriptions were later revised. The specimens were not integrated into a museum&#39;s collection, and original data were never published at that time when electronic data bases did not yet exist.\\n     The quality of the data and metadata published here was enhanced prior to publication following the best practices suggested in the literature during the digitalization and geo-referencing processes. Moreover, the current accurate spelling of scientific names - except for the ophiuroid Theodoria conveniens (&#34;nomen dubium&#34;) - was reviewed based on the World Register of Marine Species (www.marinespecies.org/). For more information see “Sampling methods - Quality control” below.\\n\\nThe dataset comprises a total of 4,509 records of absences and abundances of 35 asteroid species (with a total of 2,089 specimens) and 38 opiuroid species (with a total of 18,484 specimens) from 34 stations, as well as of 66 holothurian species (with a total of 20,918 specimens) from 59 stations. \\n     Asteroid, ophiuroid and holothurian species were present at all sites investigated in the study area but composition and abundance of the asterozoan and holothurian assemblages varied considerably.     In the case of asterozoan patterns (Voß 1988, Piepenburg et al. 1997), water depth and latitude seemed to be the most important drivers of assemblage distribution and composition. At shallow shelf sites rare asteroid and ophiuroid predators, such as, e.g., Acodontaster conspicuus and Odontaster validus, respectively, as well as epibiotic ophiuroids, e.g., Astrotoma agassizii, occurred in addition to the common and widely distributed opportunistic feeders. In the case of holothurians (Gutt 1988, Gutt 1991), one assemblage co-occurred with the rich macrozoobenthic community dominated by dense epifauna consisting of, e.g., sponges and gorgonians, which are often used as substratum by epibiotic filter feeders. Others live mainly as vagrant deposit feeders on the predominantly non-colonised substratum, such as typical deep-sea species, e.g. Elpidia glacialis and Protelpidia murrayi (Gutt and Piepenburg 1991). In addition, a mixed holothurian assemblage was identified. \\n\\nVirtually nothing was known about echinoderms in the south-eastern Weddell Sea before the field sampling work, in the course of which the data published here have been gained. Also from other Antarctic regions only sporadic information on the three echinoderm classes, especially holothurians, was available at that time, mainly found published in the taxonomic literature. However, the application of a whole-assemblage approach was novel, and comparable surveys are even nowadays rare.\\n     The unique dataset encompasses some of the first observations of asteroids, ophiuroids and holothurians in this area and represents a significant contribution of primary data about Antarctic benthos assemblages. Moreover, it provides unique baseline data for future faunistic, ecological and conservation studies to evaluate the effects of climate change and possible future fishing activities in this area. At present and in the future these faunistic data can gain further importance in the context of a number of further applications:\\n(1) More comprehensive circumpolar analyses and comparative studies with other large taxa become possible if these data are merged with similar datasets from other regions, see e.g., http://ipt.biodiversity.aq/resource.do?r&#61;asteroidea_zoogeography and http://ipt.biodiversity.aq/resource.do?r&#61;biopearl_asteroida. Data on these three echinoderm classes can also be compared within the same region with other taxa or environmental parameters, as compiled, e.g., by De Broyer et al. (in press). \\n(2) At the time of sampling in the 1980s, the study area was almost pristine and hardly affected by any anthropogenic activities. In the meantime, exploratory fishing started on the deeper shelf, and the knowledge on the fauna before the onset of these activities can serve as a valuable baseline for an assessment of the impact of further fishing. \\n(3) The same holds true for the study of the effects of climate change. The area is so far climatologically relatively stable but an increase of bottom-water temperatures is expected during the 21st century (Hellmer et al. 2012). \\n(4) The data can also be used for nature conservation initiatives (Teschke et al. 2013). They are especially suited for such applied ecological comparative studies, since all specimens - with few well-defined exceptions - were sorted from the catches, meaning that not only the presence of the species were registered but also very valuable absence data and the even more informative abundances. In general, the latter data are known to be more sensitive indicators of environmental change than binary presence-absence data.',\n   'pubDate': '2019-03-19',\n   'intellectualRight': 'Creative Commons Attribution (CC-BY) 4.0 License',\n   'doi': '10.15468/3pf2mg',\n   'alternateIdentifiers': ['10.15468/3pf2mg',\n    'https://ipt.biodiversity.aq/resource?r=asteroids_and_ophiuroids_from_the_south-eastern_weddell_sea',\n    'a6058a01-5880-41f5-9dbf-3eef8591f714',\n    'http://ipt.biodiversity.aq/resource?r=asteroids_and_ophiuroids_from_the_south-eastern_weddell_sea'],\n   'boundingBox': 'SRID=4326;POLYGON ((-62 -78, -62 -70, -8 -70, -8 -78, -62 -78))',\n   'citation': 'Piepenburg D (2019). Asteroids, ophiuroids and holothurians from the South-Eastern Weddell Sea (Southern Ocean). Version 11.2. SCAR - AntOBIS. Occurrence dataset https://doi.org/10.15468/3pf2mg accessed via GBIF.org on 2019-12-22.',\n   'dataType': {'id': 1, 'dataType': 'Occurrence'},\n   'project': {'id': 22,\n    'title': 'Asteroids, ophiuroids and holothurians from the South-Eastern Weddell Sea (Southern Ocean)',\n    'funding': 'The sampling of all asterozoan and holothurian specimens in the course of the cruises ANT-I/2 (PS01), ANT-II/04 (PS04), ANT-III/3 (PS06) of the German R/V \"Polarstern\" and the subsequent analysis of asteroids and ophiuroids was financed by the Alfred Wegener Institute Helmholtz Centre for Polar and Marine Research, Bremerhaven, Germany. The study on holothurians was also supported by a grant of the Deutsche Forschungsgemeinschaft (He 89/49).'},\n   'keywordSet': [{'id': 188,\n     'keyword': 'ANIMALS/INVERTEBRATES',\n     'thesaurus': 'GCMD Earth Science and Earth Science Services'},\n    {'id': 178, 'keyword': 'Asteroidea', 'thesaurus': 'n/a'},\n    {'id': 179, 'keyword': 'Asterozoa', 'thesaurus': 'n/a'},\n    {'id': 187,\n     'keyword': 'BIOLOGICAL CLASSIFICATION',\n     'thesaurus': 'GCMD Earth Science and Earth Science Services'},\n    {'id': 186,\n     'keyword': 'EARTH SCIENCE',\n     'thesaurus': 'GCMD Earth Science and Earth Science Services'},\n    {'id': 185,\n     'keyword': 'ECHINODERMS',\n     'thesaurus': 'GCMD Earth Science and Earth Science Services'},\n    {'id': 181, 'keyword': 'Holothuroidea', 'thesaurus': 'n/a'},\n    {'id': 13,\n     'keyword': 'Occurrence',\n     'thesaurus': 'GBIF Dataset Type Vocabulary: http://rs.gbif.org/vocabulary/gbif/dataset_type.xml'},\n    {'id': 183, 'keyword': 'Ophiuroidea', 'thesaurus': 'n/a'},\n    {'id': 189,\n     'keyword': 'SEA STARS',\n     'thesaurus': 'GCMD Earth Science and Earth Science Services'},\n    {'id': 180,\n     'keyword': 'Southern and South-Eastern Weddell Sea',\n     'thesaurus': 'n/a'},\n    {'id': 182, 'keyword': 'abundances', 'thesaurus': 'n/a'},\n    {'id': 184, 'keyword': 'whole-assemblage approach', 'thesaurus': 'n/a'}],\n   'publisher': {'id': 63,\n    'publisherKey': '104e9c96-791b-4f14-978c-f581cb214912',\n    'publisherName': 'SCAR - AntOBIS'}},\n  {'id': 557,\n   'title': 'Stable isotope data from marine sediment and invertebrates from Davis Station 2009/10',\n   'abstract': 'This metadata record contains an Excel file containing stable isotope analysis data of marine sediments and invertebrates collected at Davis Station from December 2009 to March 2010. Refer to Gillies et al. 2013 for sampling and analysis details. \\n\\nGillies C.L., Stark J.S., Johnstone G.J., Smith S.D.A., 2013. Establishing a food web model for coastal Antarctic benthic communities: a case study from the Vestfold Hills, Marine Ecology Progress Series, Vol. 478: 27 – 41. \\n\\nAlso refer to the Davis STP reports lodged under metadata record Davis_STP for methods and result details. \\n\\nBackground of the Davis STP project \\n\\nRefer to the Davis STP reports lodged under metadata record Davis_STP.\\nQuality: The original datasheet was reformatted to fit OBIS/ GBIF/IPT Biodiversity.AQ standard. The new datasheet &#34;DavisStationStableIsotopes.csv&#34; provides the dataset ID, event ID, recordNumber, occurrenceID, eventDate, decimalLatitude, decimalLongitude, continent, occurrenceStatus, basisOfRecord. The taxonomical organisation is provided to the lowest taxonomical rank that could be determined, after matched in WoRMS (World Register of Marine Species).',\n   'pubDate': '2018-10-15',\n   'intellectualRight': 'Creative Commons Attribution (CC-BY) 4.0 License',\n   'doi': '10.15468/y1cloo',\n   'alternateIdentifiers': ['10.15468/y1cloo',\n    'https://data.aad.gov.au/ipt/resource?r=david_station_stable_isotopes'],\n   'boundingBox': 'SRID=4326;POLYGON ((77.706 -68.919, 77.706 -68.355, 78.959 -68.355, 78.959 -68.919, 77.706 -68.919))',\n   'citation': 'Gillies C, Connell D, Johnstone G (2018). Stable isotope data from marine sediment and invertebrates from Davis Station 2009/10. Australian Antarctic Data Centre. Occurrence dataset https://doi.org/10.15468/y1cloo accessed via GBIF.org on 2019-09-21.',\n   'dataType': {'id': 1, 'dataType': 'Occurrence'},\n   'project': None,\n   'keywordSet': [{'id': 391,\n     'keyword': 'Occurrence\\nEARTH SCIENCE > BIOSPHERE > ECOSYSTEMS > MARINE ECOSYSTEMS > BENTHIC\\nEARTH SCIENCE > OCEANS > MARINE SEDIMENTS\\nEARTH SCIENCE > OCEANS > OCEAN CHEMISTRY > STABLE ISOTOPES\\nEARTH SCIENCE > BIOLOGICAL CLASSIFICATION > ANIMALS/INVERTEBRATES\\nEARTH SCIENCE > BIOLOGICAL CLASSIFICATION > ANIMALS/INVERTEBRATES > ARTHROPODS > CRUSTACEANS\\nEARTH SCIENCE > BIOLOGICAL CLASSIFICATION > ANIMALS/INVERTEBRATES > MOLLUSKS > BIVALVES\\nEARTH SCIENCE > BIOLOGICAL CLASSIFICATION > ANIMALS/INVERTEBRATES > ARTHROPODS > CRUSTACEANS\\nEARTH SCIENCE > BIOLOGICAL CLASSIFICATION > ANIMALS/INVERTEBRATES > ECHINODERMS\\nEARTH SCIENCE > BIOLOGICAL CLASSIFICATION > ANIMALS/VERTEBRATES > FISH\\nEARTH SCIENCE > BIOLOGICAL CLASSIFICATION > ANIMALS/INVERTEBRATES > MOLLUSKS > GASTROPODS\\nEARTH SCIENCE > BIOLOGICAL CLASSIFICATION > ANIMALS/INVERTEBRATES > ARTHROPODS > CRUSTACEANS\\nEARTH SCIENCE > BIOLOGICAL CLASSIFICATION > PLANTS > MACROALGAE (SEAWEEDS)\\nEARTH SCIENCE > BIOLOGICAL CLASSIFICATION > PLANTS > MICROALGAE\\nEARTH SCIENCE > BIOLOGICAL CLASSIFICATION > PROTISTS > PLANKTON > PHYTOPLANKTON\\nEARTH SCIENCE > BIOSPHERE > ECOSYSTEMS > AQUATIC ECOSYSTEMS > PLANKTON\\nEARTH SCIENCE > CRYOSPHERE > SEA ICE\\nEARTH SCIENCE > OCEANS > SEA ICE',\n     'thesaurus': 'GBIF Dataset Type Vocabulary: http://rs.gbif.org/vocabulary/gbif/dataset_type.xml'}],\n   'publisher': {'id': 3,\n    'publisherKey': '3693ff90-4c16-11d8-b290-b8a03c50a862',\n    'publisherName': 'Australian Antarctic Data Centre'}},\n  {'id': 571,\n   'title': 'Toxicity of copper, cadmium and zinc to Macquarie Island marine invertebrates 2012/15',\n   'abstract': '<p>We investigated the toxicity of copper, zinc and cadmium to the following taxa: copepods Tigriopus angulatus (Lang) and Harpacticus sp. (Order Harpacticoida, Family Harpacticidae); flatworm Obrimoposthia ohlini (Bergendal) (Order Seriata, Family Procerodidae); bivalve Gaimardia trapesina (Lamarck) (Order Veneroida, Family Gaimardiidae); sea cucumber Pseudopsolus macquariensis (Dendy) (Order Dendrochirotida, Family Cucumriidae); sea star Anasterias directa (Koeler) (Order Forcipulatida, Family Asteriidae).\\n\\nSites chosen for the collection of invertebrates for this study were free of obvious signs of metal contamination, as verified by the analysis of seawater samples from collection sites by inductively coupled plasma optical emission spectrometry (ICP-OES).\\n\\nSix invertebrate species were selected for toxicity tests to represent a range of taxa and ecological niches. Individuals of the copepod Tigriopus angulatus were collected using fine mesh dip nets from rock pools high on the intertidal zone. Individuals of the flatworm Obrimoposthia ohlini were collected from the undersides of boulders, high in the intertidal zone. The copepod Harpacticus sp. and bivalve Gaimardia trapesina were collected from several macroalgae species at high energy locations in the intertidal zone. Individuals of the sea cucumber Pseudopsolus macquariensis were collected from rocks from high energy locations from the intertidal to subtidal zones. Juveniles of the sea star Anasterias directa were collected from rocks in deep pools, low in the intertidal zone. \\n\\nAll experimental tests using O. ohlini, T. angulatus, P. macquariensis and A. directa were conducted at the AAD Kingston laboratories, while some tests with Harpacticus sp. and all tests with G. trapesina were conducted in the laboratory facilities on Macquarie Island. Adult life-stages were tested for all species except for P. macquairensis and A. directa in which juvenile stages were tested. Psedopsolus macquariensis released eggs in the aquarium which developed into juveniles prior to being used in tests, and juvenile A. directa were collected from the field.\\n\\nEach test involved exposure to copper, zinc or cadmium solution under a static non-renewal test regime over 14 days. Five metal concentrations plus a control were used for each test, with 3-5 replicates of each concentration. Where possible, tests were replicated. Concentrations used in replicate tests sometimes varied, as species sensitivity information accrued in tests was used to optimise subsequent tests. Metal test solutions in seawater were prepared 24 hours prior to the addition of animals, using 500 micrograms/L CuSO4, 500 micrograms/L ZnCl2 and 500 micrograms/L Cd SO4 MilliQ stock solutions. Seawater was filtered to 0.45 microns and water quality parameters were measured using a TPS 90-FL multimeter at the start and end of tests. Dissolved oxygen (DO) was greater than 80% saturation, salinity 35 ppt plus or minus 0.5, and pH was ~8.1-8.3 at the start of tests. All experimental vials and glassware were acid washed with 10% nitric acid and rinsed with MilliQ three times before use. Metal concentrations were determined using ICP-OES; samples of test solutions were taken at the start (day 0) and end of tests (day 14), filtered through a 0.45 microns syringe filter and acidified with 1% ultra-pure nitric acid. Measured concentrations at the start of tests were within 96% of nominal concentrations. In order to estimate exposure concentrations, the measured concentrations at days 0 and 14 were averaged. \\n\\nTests were conducted in lidded plastic vials of varying sizes, depending on the size and number of individuals in the test. For both copepod species, there were 10 individuals per 50 mL in 70 mL vials; for P. macquariensis there were 8 individuals per 50 mL in 70 mL vials; and for O. ohlini, A. directa and G. trapesina, 10 individuals per 100 mL in 120 mL vials. Tests were conducted under a light-dark regime (at 2360 lux) of 18:6h light:dark in summer, 12:12 for tests for the rest of the year. Tests were kept in controlled temperature cabinets set at 6 degrees C, and temperatures within cabinets were monitored throughout the test using data loggers. \\n\\nVials were checked daily and survival recorded on days 1, 2, 4, 7, 10 and 14. Individuals were considered dead, and removed from test vials, when for G. trapesina adductor muscles no longer closed shell; O. ohlini were inactive and covered in mucous; P. macquariensis and A. directa tube feet were no longer moving; T. angulatus and Harpacticus sp. urosomes were perpendicular to prosomes.\\n\\nData are provided in a series of excel workbooks; one workbook per test species.</p>\\n<p>2018-09-24 - The original datasheet was reformatted to fit IPT Biodiversity.AQ standard. The new datasheet &#34;toxicityTestMarineOrganisms.csv&#34; provides the datasetID, occurrenceID, country, countryCode, decimalLatitude, decimaLongitude, island, localitionID, eventDate, year, month, day, identificationQualifier, occurrenceStatus, and basisOfRecord. The lowest taxonomical rank of the species identified that could be determined is provided, after matched in WoRMS (World Register of Marine Species).</p>',\n   'pubDate': '2018-09-26',\n   'intellectualRight': 'Creative Commons Attribution (CC-BY) 4.0 License',\n   'doi': '10.4225/15/56369d520a118',\n   'alternateIdentifiers': ['10.4225/15/56369d520a118',\n    'https://data.aad.gov.au/ipt/resource?r=toxicity_test'],\n   'boundingBox': 'SRID=4326;POLYGON ((158.936 -54.499, 158.936 -54.492, 158.945 -54.492, 158.945 -54.499, 158.936 -54.499))',\n   'citation': 'Holan J, King C, Connell D (2018). Toxicity of copper, cadmium and zinc to Macquarie Island marine invertebrates 2012/15. Australian Antarctic Data Centre. Occurrence dataset https://doi.org/10.4225/15/56369d520a118 accessed via GBIF.org on 2019-03-09.',\n   'dataType': {'id': 1, 'dataType': 'Occurrence'},\n   'project': None,\n   'keywordSet': [{'id': 402,\n     'keyword': 'Occurrence\\nEARTH SCIENCE > BIOLOGICAL CLASSIFICATION > ANIMALS/INVERTEBRATES\\nEARTH SCIENCE > BIOLOGICAL CLASSIFICATION > ANIMALS/INVERTEBRATES > ARTHROPODS > CRUSTACEANS\\nEARTH SCIENCE > BIOLOGICAL CLASSIFICATION > ANIMALS/INVERTEBRATES > FLATWORMS/FLUKES/TAPEWORMS\\nEARTH SCIENCE > BIOLOGICAL CLASSIFICATION > ANIMALS/INVERTEBRATES > MOLLUSKS > BIVALVES\\nEARTH SCIENCE > BIOSPHERE > ECOLOGICAL DYNAMICS > ECOTOXICOLOGY\\nEARTH SCIENCE > BIOSPHERE > ECOLOGICAL DYNAMICS > ECOTOXICOLOGY > BIOAVAILABILITY\\nEARTH SCIENCE > BIOSPHERE > ECOLOGICAL DYNAMICS > ECOTOXICOLOGY > SPECIES BIOACCUMULATION\\nEARTH SCIENCE > BIOSPHERE > ECOLOGICAL DYNAMICS > ECOTOXICOLOGY > TOXICITY LEVELS\\nEARTH SCIENCE > OCEANS > OCEAN CHEMISTRY > TRACE ELEMENTS',\n     'thesaurus': 'GBIF Dataset Type Vocabulary: http://rs.gbif.org/vocabulary/gbif/dataset_type.xml'}],\n   'publisher': {'id': 3,\n    'publisherKey': '3693ff90-4c16-11d8-b290-b8a03c50a862',\n    'publisherName': 'Australian Antarctic Data Centre'}},\n  {'id': 643,\n   'title': 'Abatus Microsatellites data set 2009/13',\n   'abstract': 'The present data set corresponds to the genotypes for seven microsatellite markers for three Antarctic sea urchin species of the genus Abatus. Sea urchin individuals were collected in five sites separated by up to 5 km in the near-shore area surrounding Davis Station in the Vestfold Hills Region, East Antarctica. For each microsatellite loci, the size of each allele was scored (in base pairs) using the CEQ 8000 Genetic Analysis System software v.8.0. Fragments were separated on an automated sequencer (CEQ 8000, Beckman Coulter) in the Central Science Laboratory at University of Tasmania.',\n   'pubDate': '2018-09-26',\n   'intellectualRight': 'Creative Commons Attribution (CC-BY) 4.0 License',\n   'doi': '10.4225/15/57d0f91bb1242',\n   'alternateIdentifiers': ['10.4225/15/57d0f91bb1242',\n    'https://data.aad.gov.au/ipt/resource?r=abatusmicrosatellite2009_13'],\n   'boundingBox': 'SRID=4326;POLYGON ((-77.959 -68.578, -77.959 -68.566, 58.359 -68.566, 58.359 -68.578, -77.959 -68.578))',\n   'citation': 'Miller K, Carrea C, Burridge C, King C, Connell D (2018). Abatus Microsatellites data set 2009/13. Australian Antarctic Data Centre. Occurrence dataset https://doi.org/10.4225/15/57d0f91bb1242 accessed via GBIF.org on 2019-09-21.',\n   'dataType': {'id': 1, 'dataType': 'Occurrence'},\n   'project': {'id': 120,\n    'title': 'Abatus Microsatellites data set',\n    'funding': 'This project was supported by the Australian Government through its Australian Antarctic Science Grants Program, awarded to K.J.M. (Project 3051) and C.K.K. (Project 4100)'},\n   'keywordSet': [{'id': 496,\n     'keyword': 'ANIMALS/INVERTEBRATES',\n     'thesaurus': 'GBIF Dataset Type Vocabulary: http://rs.gbif.org/vocabulary/gbif/dataset_type.xml'},\n    {'id': 495,\n     'keyword': 'BIOLOGICAL CLASSIFICATION',\n     'thesaurus': 'GBIF Dataset Type Vocabulary: http://rs.gbif.org/vocabulary/gbif/dataset_type.xml'},\n    {'id': 494,\n     'keyword': 'EARTH SCIENCE',\n     'thesaurus': 'GBIF Dataset Type Vocabulary: http://rs.gbif.org/vocabulary/gbif/dataset_type.xml'},\n    {'id': 492,\n     'keyword': 'ECHINODERMS',\n     'thesaurus': 'GBIF Dataset Type Vocabulary: http://rs.gbif.org/vocabulary/gbif/dataset_type.xml'},\n    {'id': 13,\n     'keyword': 'Occurrence',\n     'thesaurus': 'GBIF Dataset Type Vocabulary: http://rs.gbif.org/vocabulary/gbif/dataset_type.xml'},\n    {'id': 493,\n     'keyword': 'SEA URCHINS',\n     'thesaurus': 'GBIF Dataset Type Vocabulary: http://rs.gbif.org/vocabulary/gbif/dataset_type.xml'}],\n   'publisher': {'id': 3,\n    'publisherKey': '3693ff90-4c16-11d8-b290-b8a03c50a862',\n    'publisherName': 'Australian Antarctic Data Centre'}},\n  {'id': 601,\n   'title': 'Toxicity of copper to three Macquarie Island marine gastropods 2013/15',\n   'abstract': '<p>The three gastropod species in this study were collected from the subantarctic Macquarie Island (54.6167 degrees S, 158.8500 degrees E), which is located in the Southern Ocean, just north of the Antarctic Convergence. Sea temperatures surrounding Macquarie Island are relatively stable throughout the year, with average temperatures ranging from ~4-7 degrees C (Reynolds and Banzon, 2008). Seawater samples were taken from collection sites of this study and verified as free from metal contamination by analysis by inductively coupled plasma optical emission spectrometry (Varian 720-ES) (ICP-OES). \\nThe three gastropod species were collected from a range of habitats within the intertidal and subtidal zone (Figure 1). Individuals of Laevilittorina caliginosa were often located in pools high on the intertidal zone, but can occur throughout the intertidal zone. Collections of this species were not specific to any one habitat. Macquariella hamiltoni, endemic to Macquarie Island, was collected from macroalgae in the high energy areas of the subtidal zone. Finally, Cantharidus capillaceus coruscan, was collected from the undersides of boulders in deep tide pools as well as from crevices in the shallow subtidal. This species was also abundant on the floating fronds of Macrocystis pyrifera in deep water which is up to several hundred meters from shore.\\nToxicity tests\\nToxicity tests were conducted at Macquarie Island, over the 2013/14 austral summer, and at the Australian Antarctic Division (AAD) in Tasmania, Australia, in 2015. The first round of tests with Laevilittorina caliginosa and Macquariella hamiltoni as well as both tests for Cantharidus capillaceus coruscan were done on Macquarie Island, while the second test for L. caliginosa and M. hamiltoni were done in Australia. Gastropods for use in tests in Australia were transported by ship to the Marine Research Facilities at the AAD where they were housed in purpose-built recirculating aquariums at 6 degrees C for 2 months prior to being used in tests. For tests done at the Macquarie Island laboratory, gastropods were acclimated to laboratory conditions for 2 days prior to their use in tests. \\nTest solutions were prepared 24 hours prior to the addition of animals. All experimental vials and glassware were acid washed with 10% nitric acid and rinsed with MilliQ water three times before use. Five copper concentrations in seawater plus a control were prepared using 500 micrograms/L CuSO4, MilliQ water stock solutions. Seawater was filtered to 0.45 microns and water quality parameters were measured using a TPS 90-FL multimeter at the start and end of tests. Dissolved oxygen (DO) was greater than 80% saturation, salinity was 33-35 ppt, and pH was 8.1-8.3 at the start of tests. Tests were conducted under a light-dark regime (at 2360 lux) of 16:8h light:dark in summer, 12:12 for tests in the rest of the year and were kept in controlled temperature cabinets set at 6 degrees C. Temperatures within cabinets were monitored throughout the test using ibutton data loggers. Water samples of each test concentration were taken at the start (day 0) and end of tests (day 14). Samples were filtered through a 0.45microns Minisart syringe filter and acidified with 1% ultra-pure nitric acid before being analysed by ICP-OES to determine dissolved metal concentrations. Measured concentrations at the start of tests were within 96% of nominal target concentrations. These were averaged with measured concentrations at the end of tests, to estimate exposure concentrations which were then used in the statistical analyses (Table 1). \\nTwo different water renewal regimes were used and tests ran for 7 to 14 d. A static non-renewal test regime was used for L. caliginosa and M. hamiltoni, while water was renewed every second day for tests with C. capillaceus coruscan. Tests were terminated when surviving individuals occurred in less than two concentrations, which occurred sooner (7-10 d) for C. capillaceus coruscan, in both tests. Tests were done in lidded plastic vials of varying sizes, depending on the size and number of individuals in the test. For L. caliginosa and M. hamiltoni, tests were done in 120 mL vials containing 100 mL of seawater with 10 individuals per vial and 5 replicates per concentration. For the larger species, C. capillaceus coruscan, tests were done in 500 mL vials containing 450 mL seawater with 5-6 individuals per vial and 5-6 replicates per concentration. Two tests were run for each species. Concentrations used in replicate tests were not the same, as information on the sensitivity of different species acquired from the first test was used to guide appropriate concentrations in the second test. \\nTwo endpoints were used to determine sensitivity to copper; mortality and sublethal effects. Vials were checked daily and survival and sublethal/behaviour was observed and recorded on days 1, 2, 4, 7, 10 and 14. For all species, mortality was scored when opercula were open and there was no response to the stimulus the touch of a probe on the operculum. All dead individuals were removed from test vials when observed. At the termination of each test, individuals that had retracted into their shell were placed in clean seawater for 24 hours to determine their ability to recover following exposure to copper.</p>\\n<p>In summary, samples (live marine invertebrates) were collected from Macquarie Island during 11/12, 12/13, 13/14, 14/15 summer seasons and returned to the AAD Kingston Marine Research Facility where they were maintained until use in experimental tests. \\n\\nLaboratory based toxicity tests were conducted on Macquarie Island during 13/14 summer season and at AAD Kingston laboratories between September 2012 and June 2015.\\n\\n2018-09-24 - The original datasheet was reformatted to fit OBIS/GBIF/IPT Biodiversity.AQ standard. The new datasheet &#34;Gastropods_Toxicity.csv&#34; provides the datasetID, occurrenceID, eventDate, year, month, day, locationID, country, institutionCode, decimalLatitude, decimalLongitude, identificationQualifier, basisOfRecord, and occurrenceStatus. The lowest taxonomical rank of the species identified that could be determined is provided, after matched in WoRMS (World Register of Marine Species).</p>',\n   'pubDate': '2018-09-26',\n   'intellectualRight': 'Creative Commons Attribution (CC-BY) 4.0 License',\n   'doi': '10.15468/veru1f',\n   'alternateIdentifiers': ['10.15468/veru1f',\n    'https://data.aad.gov.au/ipt/resource?r=toxicity_gastropods'],\n   'boundingBox': 'SRID=4326;POLYGON ((158.936 -54.499, 158.936 -54.492, 158.945 -54.492, 158.945 -54.499, 158.936 -54.499))',\n   'citation': 'Holan J, King C, Connell D (2018). Toxicity of copper to three Macquarie Island marine gastropods 2013/15. Australian Antarctic Data Centre. Occurrence dataset https://doi.org/10.15468/veru1f accessed via GBIF.org on 2019-08-23.',\n   'dataType': {'id': 1, 'dataType': 'Occurrence'},\n   'project': None,\n   'keywordSet': [{'id': 437,\n     'keyword': 'Occurrence\\nEARTH SCIENCE > BIOLOGICAL CLASSIFICATION > ANIMALS/INVERTEBRATES > MOLLUSKS > GASTROPODS\\nEARTH SCIENCE > BIOSPHERE > ECOLOGICAL DYNAMICS > ECOTOXICOLOGY > TOXICITY LEVELS\\nEARTH SCIENCE > OCEANS > OCEAN CHEMISTRY > TRACE ELEMENTS\\nEARTH SCIENCE > OCEANS > WATER QUALITY > OCEAN CONTAMINANTS\\nEARTH SCIENCE > HUMAN DIMENSIONS > ENVIRONMENTAL IMPACTS > CONTAMINANT LEVELS/SPILLS',\n     'thesaurus': 'GBIF Dataset Type Vocabulary: http://rs.gbif.org/vocabulary/gbif/dataset_type.xml'}],\n   'publisher': {'id': 3,\n    'publisherKey': '3693ff90-4c16-11d8-b290-b8a03c50a862',\n    'publisherName': 'Australian Antarctic Data Centre'}},\n  {'id': 556,\n   'title': '2016 Aerial survey data of southern right whales (Eubalaena australis) off southern Australia',\n   'abstract': '<p>These aerial survey data of southern right whales (Eubalaena australis) off southern Australia were collected in August 2016. Such annual flights in winter/spring between Cape Leeuwin (Western Australia) and Ceduna (South Australia) have now been conducted over a 23-year period 1993-2016. These surveys have provided evidence of a population trend of around 6% per year, and a current (at 2014) population size of approximately 2300 of what has been regarded as the &#39;western&#39; Australian right whale subpopulation. With estimated population size in the low thousands, it is presumed to be still well below carrying capacity. No trend information is available for the &#39;eastern&#39; subpopulation of animals occurring around the remainder of the southern Australian Coast, to at least as far as Sydney, New South Wales and the populations size is relatively small, probably in the low hundreds. A lower than expected &#39;western&#39; count in 2015 gives weak evidence that the growth rate may be starting to show signs of slowing, though an exponential increase remains the best description of the data. If the low 2015 count is anomalous, future counts may be expected to show an exponential increase, but if it is not, modelling growth as other than simple exponential may be useful to explore in future.</p>\\n<p>Quality\\nPhoto quality will be variable and requires assessment prior to assimilation into photo-identification catalogue \\nhttp://data.marinemammals.gov.au/arwpic \\n\\n2018-10-16 \\nThe original files from project &#39;NESP_2016_SRW&#39; was reformatted to fit OBIS/GBFI/IPT Biodiversity.AQ standards, and a new datasheet &#34;NESTWhaleAerialSurvey2016.csv&#34; was created. The new dataset contains datasetID, occurrenceID, recordNumber, eventDate, year, month, verbatimLatitude, verbatimLongitude, decimalLatitude, decimalLongitude, locationID, stateProvince, country, countryCode, institutionCode, lifeStage, organismQuantity, organismQuantityType, sex, basisOfRecord, occurrenceStatus, and type. The lowest taxonomical rank of the species identified that could be determined is provided, after matched in WoRMS (World Register of Marine Species).</p>',\n   'pubDate': '2018-10-16',\n   'intellectualRight': 'Creative Commons Attribution (CC-BY) 4.0 License',\n   'doi': '10.15468/rp4zuj',\n   'alternateIdentifiers': ['10.15468/rp4zuj',\n    'https://data.aad.gov.au/ipt/resource?r=nesp_2016_srw'],\n   'boundingBox': 'SRID=4326;POLYGON ((113.027 -36.598, 113.027 -29.993, 138.691 -29.993, 138.691 -36.598, 113.027 -36.598))',\n   'citation': 'Double M (2018). 2016 Aerial survey data of southern right whales (Eubalaena australis) off southern Australia. Australian Antarctic Data Centre. Occurrence dataset https://doi.org/10.15468/rp4zuj accessed via GBIF.org on 2019-03-01.',\n   'dataType': {'id': 1, 'dataType': 'Occurrence'},\n   'project': None,\n   'keywordSet': [{'id': 390,\n     'keyword': 'AIRCRAFT\\nCAMERAS\\nEARTH SCIENCE > BIOLOGICAL CLASSIFICATION > ANIMALS/VERTEBRATES > MAMMALS > CETACEANS',\n     'thesaurus': 'Global Change Master Directory (GCMD). 2018. GCMD Keywords, Version 8.6. Greenbelt, MD: Global Change Data Center, Science and Exploration Directorate, Goddard Space Flight Center (GSFC) National Aeronautics and Space Administration (NASA). URL (GCMD Keyword Forum Page): https://earthdata.nasa.gov/gcmd-forum'},\n    {'id': 13,\n     'keyword': 'Occurrence',\n     'thesaurus': 'GBIF Dataset Type Vocabulary: http://rs.gbif.org/vocabulary/gbif/dataset_type.xml'}],\n   'publisher': {'id': 3,\n    'publisherKey': '3693ff90-4c16-11d8-b290-b8a03c50a862',\n    'publisherName': 'Australian Antarctic Data Centre'}},\n  {'id': 456,\n   'title': 'Bacteria from Penguin Guano, Antarctica',\n   'abstract': 'The total number of bacteria and culturable bacteria in Ade´lie penguin (Pygoscelis adeliae) guano was determined during 42 days\\nof decomposition in a location adjacent to the rookery in Admiralty Bay, King George Island, Antarctica. Of the culturable bacteria, 72 randomly selected colonies were described using 49 morpho-physiological tests, 27 of which were subsequently considered significant in characterizing and differentiating the isolates. On the basis of the nucleotide sequence of a fragment of the 16S rRNA gene in each of 72 pure isolates, three major phylogenetic groups were identified, namely the Moraxellaceae/Pseudomonadaceae (29 isolates), the Flavobacteriaceae (14), and the Micrococcaceae (29). Grouping of the isolates on the basis of morpho-physiological tests (whether 49 or 27 parameters) showed similar results to those based on 16S rRNA gene sequences. Clusters were characterized by considerable intra-cluster variation in both 16S rRNA gene sequences and morpho-physiological responses. High diversity in abundance and morphometry of total bacterial communities during penguin guano decomposition was supported by image analysis of epifluorescence micrographs. The results indicate that the bacterial community in penguin guano is not only one of the richest in\\nAntarctica, but is extremely diverse, both phylogenetically and morpho-physiologically.',\n   'pubDate': '2019-03-19',\n   'intellectualRight': 'Creative Commons Attribution (CC-BY) 4.0 License',\n   'doi': '10.15468/f9ob9z',\n   'alternateIdentifiers': ['10.15468/f9ob9z',\n    'https://ipt.biodiversity.aq/resource?r=test_yi-ming_2017',\n    'ebe73e19-11eb-48d2-9263-fb0caa3b7b5a',\n    'http://ipt.biodiversity.aq/resource?r=test_yi-ming_2017'],\n   'boundingBox': 'SRID=4326;POLYGON ((-59 -63, -59 -62, -58 -62, -58 -63, -59 -63))',\n   'citation': 'Van de Putte A (2019). Bacteria from Penguin Guano, Antarctica. Version 1.3. Antarctic Biodiversity Information Facility (ANTABIF). Occurrence dataset https://doi.org/10.15468/f9ob9z accessed via GBIF.org on 2019-09-14.',\n   'dataType': {'id': 1, 'dataType': 'Occurrence'},\n   'project': None,\n   'keywordSet': [{'id': 261,\n     'keyword': 'ANTARCTICA',\n     'thesaurus': 'Global Change Master Directory'},\n    {'id': 263,\n     'keyword': 'BACTERIA/ARCHAEA',\n     'thesaurus': 'Global Change Master Directory'},\n    {'id': 264,\n     'keyword': 'BIOLOGICAL CLASSIFICATION',\n     'thesaurus': 'Global Change Master Directory'},\n    {'id': 265,\n     'keyword': 'CONTINENT',\n     'thesaurus': 'Global Change Master Directory'},\n    {'id': 262,\n     'keyword': 'EARTH SCIENCE',\n     'thesaurus': 'Global Change Master Directory'},\n    {'id': 13,\n     'keyword': 'Occurrence',\n     'thesaurus': 'GBIF Dataset Type Vocabulary: http://rs.gbif.org/vocabulary/gbif/dataset_type.xml'}],\n   'publisher': {'id': 1,\n    'publisherKey': 'fb10a11f-4417-41c8-be6a-13a5c8535122',\n    'publisherName': 'Antarctic Biodiversity Information Facility (ANTABIF)'}},\n  {'id': 499,\n   'title': 'Sample summary and analysis of biopsy samples collected during the New Zealand Australian Antarctic Ecosystems Voyage 2015',\n   'abstract': '<p>Biopsy samples were collected from humpback (n&#61;10) and blue whales (n&#61;1) during the NZ/Aus Antarctic Ecosystems Voyage 2015. Biopsy collection from humpback and blue whales was attempted from the bow of the ship using Larsen rifles. Biopsying blue whales from the bow of the RV Tangaroa proved challenging due to the ship’s manoeuvrability and the limited capacity to change speed rapidly. Biopsy samples were split between All Protect (Qiagen), 70% ethanol, and freezing at -20C. .\\n\\nThis dataset consists of an excel spreadsheet (biopsy_events.xlsx) summarising biopsy events containing the fields:\\nDate_taken (in UTC)\\nLocation (general) where sample collected \\nLatitude\\nLongitude\\nIndividual ID\\nSample ID\\nName of sampler\\nSample type\\nPreservative used\\nSpecies sampled\\n\\nAn excel spreadsheet (Biopsy sample info datasheet AEV 2015.xlsx) details the biopsy processing that occurred upon collection of a sample. Where possible, each sample was split and preserved in 2 x All Protect, 1 x EtOH and 1 x -80 degrees Celsius. Samples preserved in All Protect and 70% ethanol are stored at the Australian Antarctic Division and samples preserved at -80C are stored at NIWA Wellington. A subsample of the Antarctic blue whale biopsy was\\nsubmitted to the IWC-recognised genetic repository for Antarctic blue whale at NOAA Southwest Fisheries, La Jolla. \\n\\nBiopsy samples were processed to determine sex and the results are held in: TAN1502_Whale biopsy samples.xls\\n\\nPurpose: The IWC-SORP Antarctic Blue Whale Project aims to derive an up-to-date and precise estimate of the abundance, distribution, and potential recovery of Antarctic blue whales. The most appropriate survey method for achieving this was found to be mark-recapture involving individual photographic and genetic identification, assisted by passive acoustic tracking. Genetic tagging from biopsy samples is a well-established method that enables the identification of individuals from genetic markers such as microsatellites or single nucleotide polymorphisms (SNPs).</p>\\n<p>Quality: Australian Antarctic Data Centre Note 2018-07-04:\\n\\nOriginal datasheet was reformatted to fit IPT Biodiversity.AQ standard. The new datasheet &#34;blueWhales2015.csv&#34; provides the dataset ID, record number, record by, preparation, location, country, event day, verbatim latitude and longitude, decimal latitude and longitude, sex, occurrence, and basis of record. The taxonomical organisation is provided to the lowest taxonomical rank that could be determined, after matched in WoRMS (World Register of Marine Species).</p>\\n<p>Data Licence: This dataset has been collected under the International Whaling Commission’s (IWC) Southern Ocean Research Partnership (SORP). The IWC-SORP ethos is one of open collaboration, communication and data sharing. The Data User will acknowledge the use of the IWC SORP dataset by the following statement:\\nData provided by the International Whaling Commission’s Southern Ocean Research Partnership were all based upon non-lethal samples collected under a protocol approved by the Australian Antarctic Program Animal Ethics Committee (AAPAEC). These data were provided by the Partnership for the purpose of collaborative investigation.</p>',\n   'pubDate': '2018-10-16',\n   'intellectualRight': 'Creative Commons Attribution (CC-BY) 4.0 License',\n   'doi': '10.15468/pmjowl',\n   'alternateIdentifiers': ['10.15468/pmjowl',\n    'https://data.aad.gov.au/ipt/resource?r=blue_whale2015'],\n   'boundingBox': 'SRID=4326;POLYGON ((-178 -71, -178 -60, 164 -60, 164 -71, -178 -71))',\n   'citation': 'Double M, Connell D (2018). Sample summary and analysis of biopsy samples collected during the New Zealand Australian Antarctic Ecosystems Voyage 2015. Australian Antarctic Data Centre. Occurrence dataset https://doi.org/10.15468/pmjowl accessed via GBIF.org on 2019-02-16.',\n   'dataType': {'id': 1, 'dataType': 'Occurrence'},\n   'project': None,\n   'keywordSet': [{'id': 338,\n     'keyword': 'EARTH SCIENCE > BIOLOGICAL CLASSIFICATION > ANIMALS/VERTEBRATES > MAMMALS > CETACEANS\\nEARTH SCIENCE > BIOSPHERE > ECOLOGICAL DYNAMICS > ECOSYSTEM FUNCTIONS',\n     'thesaurus': 'GBIF Dataset Type Vocabulary: http://rs.gbif.org/vocabulary/gbif/dataset_subtype.xml'},\n    {'id': 13,\n     'keyword': 'Occurrence',\n     'thesaurus': 'GBIF Dataset Type Vocabulary: http://rs.gbif.org/vocabulary/gbif/dataset_type.xml'}],\n   'publisher': {'id': 3,\n    'publisherKey': '3693ff90-4c16-11d8-b290-b8a03c50a862',\n    'publisherName': 'Australian Antarctic Data Centre'}}]}"
     },
     "metadata": {},
     "output_type": "execute_result",
     "execution_count": 13
    }
   ],
   "source": [
    "dataset_url = urljoin(BASE_URL, 'dataset')\n",
    "r = requests.get(dataset_url, params={'keyword': keyword_ids, 'dataType': 1})\n",
    "r.json()"
   ],
   "metadata": {
    "collapsed": false,
    "pycharm": {
     "name": "#%%\n",
     "is_executing": false
    }
   }
  },
  {
   "cell_type": "markdown",
   "source": [
    "### Basis of record\n",
    "\n",
    "What are all the `basisOfRecord` of all Occurrences in the database?"
   ],
   "metadata": {
    "collapsed": false
   }
  },
  {
   "cell_type": "code",
   "execution_count": 14,
   "outputs": [
    {
     "data": {
      "text/plain": "{'count': 8,\n 'next': None,\n 'previous': None,\n 'results': [{'id': 8, 'basisOfRecord': 'FOSSIL_SPECIMEN'},\n  {'id': 2, 'basisOfRecord': 'HUMAN_OBSERVATION'},\n  {'id': 7, 'basisOfRecord': 'LIVING_SPECIMEN'},\n  {'id': 1, 'basisOfRecord': 'MACHINE_OBSERVATION'},\n  {'id': 6, 'basisOfRecord': 'MATERIAL_SAMPLE'},\n  {'id': 3, 'basisOfRecord': 'OBSERVATION'},\n  {'id': 5, 'basisOfRecord': 'PRESERVED_SPECIMEN'},\n  {'id': 4, 'basisOfRecord': 'UNKNOWN'}]}"
     },
     "metadata": {},
     "output_type": "execute_result",
     "execution_count": 14
    }
   ],
   "source": [
    "basis_of_record_url = urljoin(BASE_URL, 'basis-of-record')\n",
    "r = requests.get(basis_of_record_url)\n",
    "r.json()"
   ],
   "metadata": {
    "collapsed": false,
    "pycharm": {
     "name": "#%%\n",
     "is_executing": false
    }
   }
  },
  {
   "cell_type": "markdown",
   "source": [
    "### Occurrence\n",
    "\n",
    "What are the Occurrences which has `depth between 6000 - 6200 meters`?"
   ],
   "metadata": {
    "collapsed": false
   }
  },
  {
   "cell_type": "code",
   "execution_count": 15,
   "outputs": [
    {
     "data": {
      "text/plain": "{'count': 32,\n 'next': 'http://data.biodiversity.aq/api/v1.0/occurrence/?depth_max=6200&depth_min=6000&limit=1&offset=1',\n 'previous': None,\n 'results': [{'id': 10980900,\n   'license': 'CC0_1_0',\n   'rightsHolder': '',\n   'accessRights': '',\n   'bibliographicCitation': '',\n   'references': '',\n   'institutionCode': 'NHMUK',\n   'collectionCode': 'ZOO',\n   'datasetName': 'Natural History Museum (London) Collection Specimens',\n   'dynamicProperties': '{\"gbifissue\": [\"COORDINATE_ROUNDED\", \"GEODETIC_DATUM_ASSUMED_WGS84\"], \"created\": 1314122435000, \"registrationcode\": \"CR07\", \"barcode\": \"010996440\", \"donorname\": \"M H. Thurston\", \"associatedmediacount\": 1, \"determinationnames\": \"Euandania gigantea Stebbing, 1888\", \"subdepartment\": \"Crustacea\", \"vessel\": \"Walter Herwig\", \"gbifid\": 1056282003}',\n   'recordedBy': 'M H. Thurston',\n   'individualCount': '1',\n   'organismQuantity': '',\n   'organismQuantityType': '',\n   'sex': '',\n   'lifeStage': '',\n   'occurrenceStatus': '',\n   'reproductiveCondition': '',\n   'behavior': '',\n   'occurrenceRemarks': '',\n   'eventDate': '',\n   'eventTime': '',\n   'year': None,\n   'month': None,\n   'day': None,\n   'verbatimEventDate': '',\n   'samplingProtocol': '',\n   'sampleSizeValue': '',\n   'sampleSizeUnit': '',\n   'samplingEffort': '',\n   'fieldNotes': '',\n   'locality': '',\n   'verbatimLocality': '',\n   'minimumElevationInMeters': None,\n   'maximumElevationInMeters': None,\n   'verbatimElevation': '',\n   'minimumDepthInMeters': None,\n   'maximumDepthInMeters': None,\n   'depth': 6000.0,\n   'verbatimDepth': '',\n   'minimumDistanceAboveSurfaceInMeters': '',\n   'maximumDistanceAboveSurfaceInMeters': '',\n   'locationAccordingTo': '',\n   'locationRemarks': '',\n   'decimalLatitude': -47.75,\n   'decimalLongitude': -4.06667,\n   'geodeticDatum': None,\n   'coordinateUncertaintyInMeters': None,\n   'coordinatePrecision': None,\n   'scientificName': 'Euandania gigantea (Stebbing, 1888)',\n   'taxonKey': '2219966',\n   'kingdom': 'Animalia',\n   'phylum': 'Arthropoda',\n   'Class': 'Malacostraca',\n   'order': 'Amphipoda',\n   'family': 'Stegocephalidae',\n   'genus': 'Parandania',\n   'subgenus': '',\n   'specificEpithet': 'gigantea',\n   'infraspecificEpithet': '',\n   'taxonRank': 'SPECIES',\n   'scientificNameAuthorship': None,\n   'basisOfRecord': 'PRESERVED_SPECIMEN',\n   'datasetKey': '7e380070-f762-11e1-a439-00145eb45e9a',\n   'datasetId': 113}]}"
     },
     "metadata": {},
     "output_type": "execute_result",
     "execution_count": 15
    }
   ],
   "source": [
    "occurrence_url = urljoin(BASE_URL, 'occurrence')\n",
    "r = requests.get(occurrence_url, params={'depth_min': 6000, 'depth_max':6200, 'limit': 1})\n",
    "r.json()"
   ],
   "metadata": {
    "collapsed": false,
    "pycharm": {
     "name": "#%%\n",
     "is_executing": false
    }
   }
  },
  {
   "cell_type": "markdown",
   "source": [
    "What are the Occurrences which has `depth between 6000 - 6200 meters` AND are `preserved specimen`?"
   ],
   "metadata": {
    "collapsed": false,
    "pycharm": {
     "name": "#%% md\n"
    }
   }
  },
  {
   "cell_type": "code",
   "execution_count": 20,
   "outputs": [
    {
     "data": {
      "text/plain": "{'count': 4,\n 'next': 'http://data.biodiversity.aq/api/v1.0/occurrence/?basis_of_record=5&depth_max=6200&depth_min=6000&limit=1&offset=1',\n 'previous': None,\n 'results': [{'id': 8386536,\n   'license': 'CC_BY_4_0',\n   'rightsHolder': '',\n   'accessRights': '',\n   'bibliographicCitation': '',\n   'references': '',\n   'institutionCode': '',\n   'collectionCode': '',\n   'datasetName': 'Antarctic Echinoids: an interactive database - David et al., 2005a',\n   'dynamicProperties': '',\n   'recordedBy': '',\n   'individualCount': '',\n   'organismQuantity': '',\n   'organismQuantityType': '',\n   'sex': '',\n   'lifeStage': '',\n   'occurrenceStatus': '',\n   'reproductiveCondition': '',\n   'behavior': '',\n   'occurrenceRemarks': '',\n   'eventDate': '1968-01-01T00:00:00Z',\n   'eventTime': '',\n   'year': 1968,\n   'month': None,\n   'day': None,\n   'verbatimEventDate': '',\n   'samplingProtocol': '',\n   'sampleSizeValue': '',\n   'sampleSizeUnit': '',\n   'samplingEffort': '',\n   'fieldNotes': '',\n   'locality': '',\n   'verbatimLocality': '898',\n   'minimumElevationInMeters': None,\n   'maximumElevationInMeters': None,\n   'verbatimElevation': '',\n   'minimumDepthInMeters': None,\n   'maximumDepthInMeters': None,\n   'depth': 6101.0,\n   'verbatimDepth': '',\n   'minimumDistanceAboveSurfaceInMeters': '',\n   'maximumDistanceAboveSurfaceInMeters': '',\n   'locationAccordingTo': '',\n   'locationRemarks': '',\n   'decimalLatitude': -56.78333,\n   'decimalLongitude': -24.93333,\n   'geodeticDatum': None,\n   'coordinateUncertaintyInMeters': None,\n   'coordinatePrecision': None,\n   'scientificName': 'Pourtalesia debilis Koehler, 1926',\n   'taxonKey': '4341645',\n   'kingdom': 'Animalia',\n   'phylum': 'Echinodermata',\n   'Class': 'Echinoidea',\n   'order': 'Holasteroida',\n   'family': 'Pourtalesiidae',\n   'genus': 'Pourtalesia',\n   'subgenus': '',\n   'specificEpithet': 'debilis',\n   'infraspecificEpithet': '',\n   'taxonRank': 'SPECIES',\n   'scientificNameAuthorship': None,\n   'basisOfRecord': 'PRESERVED_SPECIMEN',\n   'datasetKey': 'd8b06df0-81b3-41c9-bcf8-6ba5242e2b95',\n   'datasetId': 340}]}"
     },
     "metadata": {},
     "output_type": "execute_result",
     "execution_count": 20
    }
   ],
   "source": [
    "occurrence_url = urljoin(BASE_URL, 'occurrence')\n",
    "r = requests.get(occurrence_url, params={'depth_min': 6000, 'depth_max':6200, 'basis_of_record': 5, 'limit': 1})\n",
    "r.json()"
   ],
   "metadata": {
    "collapsed": false,
    "pycharm": {
     "name": "#%%\n",
     "is_executing": false
    }
   }
  },
  {
   "cell_type": "markdown",
   "source": [
    "### Download\n",
    "\n",
    "A zip file with a csv text file of occurrence records queried will be generated asynchronously when a Download request \n",
    "is sent. An email will be sent to you once the file is ready for download. A valid user account is required for this \n",
    "request.\n",
    "\n",
    "#### Create a Download request"
   ],
   "metadata": {
    "collapsed": false,
    "pycharm": {
     "name": "#%% md\n"
    }
   }
  },
  {
   "cell_type": "code",
   "execution_count": 19,
   "outputs": [
    {
     "data": {
      "text/plain": "{'id': 415,\n 'status': 'PENDING',\n 'downloadLink': '',\n 'created': '2020-02-11T07:06:42.335575',\n 'recordCount': None,\n 'query': {'depthMin': 6000, 'depthMax': 6200, 'basisOfRecord': 5}}"
     },
     "metadata": {},
     "output_type": "execute_result",
     "execution_count": 19
    }
   ],
   "source": [
    "download_url = urljoin(BASE_URL, 'download/')\n",
    "# download request need to accept a dict with the key \"query\" and value is the dict with Occurrence query parameters and its values\n",
    "data = {'query': {'depth_min': 6000, 'depth_max':6200, 'basis_of_record': 5}}\n",
    "download_request = requests.post(download_url, json=data, auth=(USERNAME, PASSWORD))\n",
    "download_request.json()"
   ],
   "metadata": {
    "collapsed": false,
    "pycharm": {
     "name": "#%%\n",
     "is_executing": false
    }
   }
  },
  {
   "cell_type": "markdown",
   "source": [
    "#### To check the detail of a particular Download request"
   ],
   "metadata": {
    "collapsed": false,
    "pycharm": {
     "name": "#%% md\n",
     "is_executing": false
    }
   }
  },
  {
   "cell_type": "code",
   "execution_count": 18,
   "outputs": [
    {
     "data": {
      "text/plain": "{'id': 413,\n 'status': 'SUCCESS',\n 'downloadLink': 'http://data.biodiversity.aq/download/request/413/',\n 'created': '2020-02-11T06:54:40.614741',\n 'recordCount': 4,\n 'query': {'depthMin': 6000, 'depthMax': 6200, 'basisOfRecord': 5}}"
     },
     "metadata": {},
     "output_type": "execute_result",
     "execution_count": 18
    }
   ],
   "source": [
    "# to query about the download status of a specific download\n",
    "download_id = download_request.json().get('id')\n",
    "download_url = urljoin(BASE_URL, 'download/{}/'.format(download_id)) \n",
    "r = requests.get(download_url, auth=(USERNAME, PASSWORD))\n",
    "r.json()"
   ],
   "metadata": {
    "collapsed": false,
    "pycharm": {
     "name": "#%%\n",
     "is_executing": false
    }
   }
  }
 ],
 "metadata": {
  "kernelspec": {
   "display_name": "Python 3",
   "language": "python",
   "name": "python3"
  },
  "language_info": {
   "codemirror_mode": {
    "name": "ipython",
    "version": 2
   },
   "file_extension": ".py",
   "mimetype": "text/x-python",
   "name": "python",
   "nbconvert_exporter": "python",
   "pygments_lexer": "ipython2",
   "version": "2.7.6"
  },
  "pycharm": {
   "stem_cell": {
    "cell_type": "raw",
    "source": [],
    "metadata": {
     "collapsed": false
    }
   }
  }
 },
 "nbformat": 4,
 "nbformat_minor": 0
}